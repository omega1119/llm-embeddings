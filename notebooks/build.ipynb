{
 "cells": [
  {
   "cell_type": "code",
   "execution_count": null,
   "id": "d90604ce",
   "metadata": {},
   "outputs": [],
   "source": [
    "from pdfchat import build_faiss_index\n",
    "\n",
    "# Build embeddings from PDFs\n",
    "build_faiss_index(\n",
    "    [\n",
    "        \"folder1\",\n",
    "        \"folder2\"\n",
    "    ], chunk_size=500\n",
    "    , exclusions=[\"title\"]\n",
    ")"
   ]
  }
 ],
 "metadata": {
  "kernelspec": {
   "display_name": "llm_embeddings",
   "language": "python",
   "name": "python3"
  },
  "language_info": {
   "codemirror_mode": {
    "name": "ipython",
    "version": 3
   },
   "file_extension": ".py",
   "mimetype": "text/x-python",
   "name": "python",
   "nbconvert_exporter": "python",
   "pygments_lexer": "ipython3",
   "version": "3.11.11"
  }
 },
 "nbformat": 4,
 "nbformat_minor": 5
}
