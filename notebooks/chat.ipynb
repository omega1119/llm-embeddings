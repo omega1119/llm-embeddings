{
 "cells": [
  {
   "cell_type": "code",
   "execution_count": null,
   "id": "a81a8c1f",
   "metadata": {},
   "outputs": [],
   "source": [
    "from pdfchat.chat import setup_chat, chat, clear_memory\n",
    "\n",
    "setup_chat()\n",
    "\n",
    "clear_memory()"
   ]
  },
  {
   "cell_type": "code",
   "execution_count": null,
   "id": "cee2468b",
   "metadata": {},
   "outputs": [],
   "source": [
    "chat(\"\"\"\n",
    "what is probability?\n",
    "\"\"\")"
   ]
  },
  {
   "cell_type": "code",
   "execution_count": null,
   "id": "f545854a",
   "metadata": {},
   "outputs": [],
   "source": [
    "chat(\"\"\"\n",
    "Please elaborate.\n",
    "\"\"\", use_retriever=False)"
   ]
  }
 ],
 "metadata": {
  "kernelspec": {
   "display_name": "llm_embeddings",
   "language": "python",
   "name": "python3"
  },
  "language_info": {
   "codemirror_mode": {
    "name": "ipython",
    "version": 3
   },
   "file_extension": ".py",
   "mimetype": "text/x-python",
   "name": "python",
   "nbconvert_exporter": "python",
   "pygments_lexer": "ipython3",
   "version": "3.11.11"
  }
 },
 "nbformat": 4,
 "nbformat_minor": 5
}
