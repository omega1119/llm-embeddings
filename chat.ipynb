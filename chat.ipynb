{
 "cells": [
  {
   "cell_type": "code",
   "execution_count": null,
   "id": "b7e1b179",
   "metadata": {},
   "outputs": [],
   "source": [
    "# !pip install openai faiss-cpu numpy python-dotenv langchain langchain-openai langchain-community"
   ]
  },
  {
   "cell_type": "code",
   "execution_count": null,
   "id": "253811a1",
   "metadata": {},
   "outputs": [],
   "source": [
    "import os\n",
    "import re\n",
    "from dotenv import load_dotenv\n",
    "from IPython.display import display, Markdown\n",
    "from langchain_openai import ChatOpenAI, OpenAIEmbeddings\n",
    "from langchain.memory import ConversationBufferMemory\n",
    "from langchain.chains import ConversationalRetrievalChain\n",
    "from langchain_community.vectorstores import FAISS\n",
    "\n",
    "load_dotenv()"
   ]
  },
  {
   "cell_type": "code",
   "execution_count": null,
   "id": "8d501ae5",
   "metadata": {},
   "outputs": [],
   "source": [
    "embeddings_model = OpenAIEmbeddings(model=\"text-embedding-3-small\")\n",
    "\n",
    "# Correct loading of FAISS vectorstore with metadata (LangChain-compatible)\n",
    "vectorstore = FAISS.load_local(\n",
    "    \"faiss_index_directory\",\n",
    "    embeddings_model,\n",
    "    allow_dangerous_deserialization=True\n",
    ")\n",
    "\n",
    "retriever = vectorstore.as_retriever(search_kwargs={\"k\": 3})"
   ]
  },
  {
   "cell_type": "code",
   "execution_count": null,
   "id": "24d12193",
   "metadata": {},
   "outputs": [],
   "source": [
    "llm = ChatOpenAI(model=\"gpt-4.1\", temperature=0.0)\n",
    "\n",
    "# Properly set up conversation memory with explicit output_key\n",
    "memory = ConversationBufferMemory(\n",
    "    memory_key=\"chat_history\",\n",
    "    return_messages=True,\n",
    "    output_key=\"answer\"\n",
    ")\n",
    "\n",
    "# Initialize conversational retrieval chain correctly\n",
    "conversation_chain = ConversationalRetrievalChain.from_llm(\n",
    "    llm=llm,\n",
    "    retriever=retriever,\n",
    "    memory=memory,\n",
    "    return_source_documents=True\n",
    ")"
   ]
  },
  {
   "cell_type": "code",
   "execution_count": null,
   "id": "8a9e8d21",
   "metadata": {},
   "outputs": [],
   "source": [
    "def fix_latex_delimiters(text):\n",
    "    text = re.sub(r'\\\\\\[(.*?)\\\\\\]', r'$$\\1$$', text, flags=re.DOTALL)\n",
    "    text = re.sub(r'\\\\\\((.*?)\\\\\\)', r'$\\1$', text, flags=re.DOTALL)\n",
    "    return text\n",
    "\n",
    "def chat(query, char_limit=200, use_retriever=True):\n",
    "    if use_retriever:\n",
    "        result = conversation_chain.invoke({\"question\": query})\n",
    "        question = fix_latex_delimiters(result['question'])\n",
    "        answer = fix_latex_delimiters(result['answer'])\n",
    "        sources = result['source_documents']\n",
    "    else:\n",
    "        chat_history = memory.load_memory_variables({})[\"chat_history\"]\n",
    "        prompt = f\"{chat_history}\\nUser: {query}\\nAssistant:\"\n",
    "        result_text = llm.invoke(prompt)\n",
    "        question = query\n",
    "        answer = fix_latex_delimiters(result_text.content)\n",
    "        sources = []\n",
    "\n",
    "    print(\"\\nQuestion:\")\n",
    "    display(Markdown(question))\n",
    "\n",
    "    print(\"\\nAnswer:\")\n",
    "    display(Markdown(answer))\n",
    "\n",
    "    print(\"\\nSources:\")\n",
    "    for i, doc in enumerate(sources, 1):\n",
    "        source_info = doc.metadata.get('source', 'Unknown')\n",
    "        page_content = fix_latex_delimiters(doc.page_content)\n",
    "        \n",
    "        # Limit page content length\n",
    "        if len(page_content) > char_limit:\n",
    "            page_content = page_content[:char_limit] + \"...\\n\\n*(truncated)*\"\n",
    "\n",
    "        source_md = f\"#### Source {i}: {source_info}\\n\\n```\\n{page_content}\\n```\"\n",
    "        display(Markdown(source_md))\n"
   ]
  },
  {
   "cell_type": "code",
   "execution_count": null,
   "id": "713ca8f2",
   "metadata": {},
   "outputs": [],
   "source": [
    "memory.clear()"
   ]
  },
  {
   "cell_type": "code",
   "execution_count": null,
   "id": "e2d22e27",
   "metadata": {},
   "outputs": [],
   "source": [
    "chat(\"\"\"\n",
    "what is probability?\n",
    "\"\"\")"
   ]
  },
  {
   "cell_type": "code",
   "execution_count": null,
   "id": "cd590f91",
   "metadata": {},
   "outputs": [],
   "source": [
    "chat(\"\"\"\n",
    "Please elaborate.\n",
    "\"\"\", use_retriever=False)"
   ]
  }
 ],
 "metadata": {
  "kernelspec": {
   "display_name": "llm_embeddings",
   "language": "python",
   "name": "python3"
  },
  "language_info": {
   "codemirror_mode": {
    "name": "ipython",
    "version": 3
   },
   "file_extension": ".py",
   "mimetype": "text/x-python",
   "name": "python",
   "nbconvert_exporter": "python",
   "pygments_lexer": "ipython3",
   "version": "3.11.11"
  }
 },
 "nbformat": 4,
 "nbformat_minor": 5
}
