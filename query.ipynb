{
 "cells": [
  {
   "cell_type": "code",
   "execution_count": null,
   "id": "c63e2fc4",
   "metadata": {},
   "outputs": [],
   "source": [
    "# !pip install openai faiss-cpu python-dotenv langchain langchain-openai langchain-community"
   ]
  },
  {
   "cell_type": "code",
   "execution_count": null,
   "id": "8b568b56",
   "metadata": {},
   "outputs": [],
   "source": [
    "import os\n",
    "import sqlite3\n",
    "import re\n",
    "from dotenv import load_dotenv\n",
    "from IPython.display import display, Markdown\n",
    "from langchain_openai import ChatOpenAI, OpenAIEmbeddings\n",
    "from langchain_community.vectorstores import FAISS\n",
    "\n",
    "load_dotenv()"
   ]
  },
  {
   "cell_type": "code",
   "execution_count": null,
   "id": "459d7edf",
   "metadata": {},
   "outputs": [],
   "source": [
    "# Load embeddings model\n",
    "embeddings_model = OpenAIEmbeddings(model=\"text-embedding-3-small\")\n",
    "\n",
    "# Load FAISS vectorstore saved by build notebook\n",
    "vectorstore = FAISS.load_local(\n",
    "    \"faiss_index_directory\",\n",
    "    embeddings_model,\n",
    "    allow_dangerous_deserialization=True\n",
    ")\n",
    "\n",
    "# Create retriever for semantic search\n",
    "retriever = vectorstore.as_retriever(search_kwargs={\"k\": 3})\n",
    "\n",
    "# Connect to SQLite database (if extra info needed)\n",
    "conn = sqlite3.connect(\"chunks.db\")"
   ]
  },
  {
   "cell_type": "code",
   "execution_count": null,
   "id": "271811aa",
   "metadata": {},
   "outputs": [],
   "source": [
    "def search_embeddings(query, retriever):\n",
    "    results = retriever.invoke(query)\n",
    "    return [(doc.page_content, doc.metadata.get(\"source\", \"unknown\")) for doc in results]\n",
    "\n",
    "def get_chatgpt_response(query, relevant_chunks, model=\"gpt-4o\"):\n",
    "    llm = ChatOpenAI(model=model, temperature=0.0)\n",
    "    context = \"\\n\\n---\\n\\n\".join(chunk for chunk, _ in relevant_chunks)\n",
    "    prompt = f\"Using the context, answer the question:\\n\\nContext:\\n{context}\\n\\nQuestion: {query}\"\n",
    "    response = llm.invoke(prompt)\n",
    "    return response.content\n",
    "\n",
    "def fix_latex_delimiters(text):\n",
    "    text = re.sub(r'\\\\\\[(.*?)\\\\\\]', r'$$\\1$$', text, flags=re.DOTALL)\n",
    "    text = re.sub(r'\\\\\\((.*?)\\\\\\)', r'$\\1$', text, flags=re.DOTALL)\n",
    "    return text"
   ]
  },
  {
   "cell_type": "code",
   "execution_count": null,
   "id": "c3bb0e14",
   "metadata": {},
   "outputs": [],
   "source": [
    "query = \"\"\"\n",
    "\n",
    "\"\"\"\n",
    "\n",
    "# Search embeddings using retriever\n",
    "relevant_chunks = search_embeddings(query, retriever)\n",
    "\n",
    "# Get ChatGPT-generated response\n",
    "answer = get_chatgpt_response(query, relevant_chunks)\n",
    "\n",
    "# Format and display answer clearly\n",
    "formatted_answer = fix_latex_delimiters(answer)\n",
    "display(Markdown(formatted_answer))\n",
    "\n",
    "# Close database connection after querying\n",
    "conn.close()"
   ]
  }
 ],
 "metadata": {
  "kernelspec": {
   "display_name": "llm_embeddings",
   "language": "python",
   "name": "python3"
  },
  "language_info": {
   "codemirror_mode": {
    "name": "ipython",
    "version": 3
   },
   "file_extension": ".py",
   "mimetype": "text/x-python",
   "name": "python",
   "nbconvert_exporter": "python",
   "pygments_lexer": "ipython3",
   "version": "3.11.11"
  }
 },
 "nbformat": 4,
 "nbformat_minor": 5
}
